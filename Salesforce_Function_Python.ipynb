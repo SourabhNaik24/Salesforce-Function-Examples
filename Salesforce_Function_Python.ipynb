{
  "nbformat": 4,
  "nbformat_minor": 0,
  "metadata": {
    "colab": {
      "provenance": [],
      "authorship_tag": "ABX9TyMiyj6AwVK8meSPtb4f/vCj",
      "include_colab_link": true
    },
    "kernelspec": {
      "name": "python3",
      "display_name": "Python 3"
    },
    "language_info": {
      "name": "python"
    }
  },
  "cells": [
    {
      "cell_type": "markdown",
      "metadata": {
        "id": "view-in-github",
        "colab_type": "text"
      },
      "source": [
        "<a href=\"https://colab.research.google.com/github/SourabhNaik24/Salesforce-Function-Examples/blob/main/Salesforce_Function_Python.ipynb\" target=\"_parent\"><img src=\"https://colab.research.google.com/assets/colab-badge.svg\" alt=\"Open In Colab\"/></a>"
      ]
    },
    {
      "cell_type": "code",
      "execution_count": null,
      "metadata": {
        "colab": {
          "base_uri": "https://localhost:8080/"
        },
        "id": "P1k-nHxMja9N",
        "outputId": "c458b878-d48b-449b-d3be-43477f763efc"
      },
      "outputs": [
        {
          "output_type": "stream",
          "name": "stdout",
          "text": [
            "Looking in indexes: https://pypi.org/simple, https://us-python.pkg.dev/colab-wheels/public/simple/\n",
            "Collecting simple-salesforce\n",
            "  Downloading simple_salesforce-1.12.3-py2.py3-none-any.whl (120 kB)\n",
            "\u001b[2K     \u001b[90m━━━━━━━━━━━━━━━━━━━━━━━━━━━━━━━━━━━━━━━\u001b[0m \u001b[32m120.1/120.1 KB\u001b[0m \u001b[31m6.8 MB/s\u001b[0m eta \u001b[36m0:00:00\u001b[0m\n",
            "\u001b[?25hCollecting pyjwt\n",
            "  Downloading PyJWT-2.6.0-py3-none-any.whl (20 kB)\n",
            "Collecting zeep\n",
            "  Downloading zeep-4.2.1-py3-none-any.whl (101 kB)\n",
            "\u001b[2K     \u001b[90m━━━━━━━━━━━━━━━━━━━━━━━━━━━━━━━━━━━━━━━\u001b[0m \u001b[32m101.2/101.2 KB\u001b[0m \u001b[31m6.0 MB/s\u001b[0m eta \u001b[36m0:00:00\u001b[0m\n",
            "\u001b[?25hRequirement already satisfied: requests>=2.22.0 in /usr/local/lib/python3.9/dist-packages (from simple-salesforce) (2.27.1)\n",
            "Requirement already satisfied: idna<4,>=2.5 in /usr/local/lib/python3.9/dist-packages (from requests>=2.22.0->simple-salesforce) (3.4)\n",
            "Requirement already satisfied: urllib3<1.27,>=1.21.1 in /usr/local/lib/python3.9/dist-packages (from requests>=2.22.0->simple-salesforce) (1.26.15)\n",
            "Requirement already satisfied: charset-normalizer~=2.0.0 in /usr/local/lib/python3.9/dist-packages (from requests>=2.22.0->simple-salesforce) (2.0.12)\n",
            "Requirement already satisfied: certifi>=2017.4.17 in /usr/local/lib/python3.9/dist-packages (from requests>=2.22.0->simple-salesforce) (2022.12.7)\n",
            "Requirement already satisfied: platformdirs>=1.4.0 in /usr/local/lib/python3.9/dist-packages (from zeep->simple-salesforce) (3.1.1)\n",
            "Collecting isodate>=0.5.4\n",
            "  Downloading isodate-0.6.1-py2.py3-none-any.whl (41 kB)\n",
            "\u001b[2K     \u001b[90m━━━━━━━━━━━━━━━━━━━━━━━━━━━━━━━━━━━━━━━━\u001b[0m \u001b[32m41.7/41.7 KB\u001b[0m \u001b[31m2.9 MB/s\u001b[0m eta \u001b[36m0:00:00\u001b[0m\n",
            "\u001b[?25hRequirement already satisfied: attrs>=17.2.0 in /usr/local/lib/python3.9/dist-packages (from zeep->simple-salesforce) (22.2.0)\n",
            "Requirement already satisfied: lxml>=4.6.0 in /usr/local/lib/python3.9/dist-packages (from zeep->simple-salesforce) (4.9.2)\n",
            "Collecting requests-file>=1.5.1\n",
            "  Downloading requests_file-1.5.1-py2.py3-none-any.whl (3.7 kB)\n",
            "Collecting requests-toolbelt>=0.7.1\n",
            "  Downloading requests_toolbelt-0.10.1-py2.py3-none-any.whl (54 kB)\n",
            "\u001b[2K     \u001b[90m━━━━━━━━━━━━━━━━━━━━━━━━━━━━━━━━━━━━━━━━\u001b[0m \u001b[32m54.5/54.5 KB\u001b[0m \u001b[31m3.8 MB/s\u001b[0m eta \u001b[36m0:00:00\u001b[0m\n",
            "\u001b[?25hRequirement already satisfied: pytz in /usr/local/lib/python3.9/dist-packages (from zeep->simple-salesforce) (2022.7.1)\n",
            "Requirement already satisfied: six in /usr/local/lib/python3.9/dist-packages (from isodate>=0.5.4->zeep->simple-salesforce) (1.16.0)\n",
            "Installing collected packages: pyjwt, isodate, requests-toolbelt, requests-file, zeep, simple-salesforce\n",
            "Successfully installed isodate-0.6.1 pyjwt-2.6.0 requests-file-1.5.1 requests-toolbelt-0.10.1 simple-salesforce-1.12.3 zeep-4.2.1\n"
          ]
        }
      ],
      "source": [
        "pip install simple-salesforce"
      ]
    },
    {
      "cell_type": "code",
      "source": [
        "from simple_salesforce import Salesforce\n",
        "sf = Salesforce(username='sourabh.shripad.naik@curious-raccoon-fubdw.com', password='password', security_token='token')"
      ],
      "metadata": {
        "id": "jatW5tbgkJvb"
      },
      "execution_count": null,
      "outputs": []
    },
    {
      "cell_type": "code",
      "source": [
        "sf.Contact.create({'LastName':'Python','Email':'example@example.com'})"
      ],
      "metadata": {
        "colab": {
          "base_uri": "https://localhost:8080/"
        },
        "id": "w3Oxkr5RlqDG",
        "outputId": "64a0dab4-5daa-4924-c619-5dbfb58f1441"
      },
      "execution_count": null,
      "outputs": [
        {
          "output_type": "execute_result",
          "data": {
            "text/plain": [
              "OrderedDict([('id', '0035g00000uOOizAAG'), ('success', True), ('errors', [])])"
            ]
          },
          "metadata": {},
          "execution_count": 3
        }
      ]
    },
    {
      "cell_type": "code",
      "source": [
        "sf.Contact.create({'LastName':'Python Created','Email':'example3@example.com'})"
      ],
      "metadata": {
        "colab": {
          "base_uri": "https://localhost:8080/"
        },
        "id": "U9kqAWf1mgdT",
        "outputId": "5c2bfd1c-48b7-4fcc-ab95-32bde91d92dd"
      },
      "execution_count": null,
      "outputs": [
        {
          "output_type": "execute_result",
          "data": {
            "text/plain": [
              "OrderedDict([('id', '0035g00000uOOjJAAW'), ('success', True), ('errors', [])])"
            ]
          },
          "metadata": {},
          "execution_count": 5
        }
      ]
    }
  ]
}